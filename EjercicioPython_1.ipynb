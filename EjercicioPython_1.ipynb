{
  "nbformat": 4,
  "nbformat_minor": 0,
  "metadata": {
    "colab": {
      "provenance": [],
      "authorship_tag": "ABX9TyNjyAGLeOpu8Pr39MOnyK8r",
      "include_colab_link": true
    },
    "kernelspec": {
      "name": "python3",
      "display_name": "Python 3"
    },
    "language_info": {
      "name": "python"
    }
  },
  "cells": [
    {
      "cell_type": "markdown",
      "metadata": {
        "id": "view-in-github",
        "colab_type": "text"
      },
      "source": [
        "<a href=\"https://colab.research.google.com/github/ferbustamantes/AI_IB_VERANOS/blob/main/EjercicioPython_1.ipynb\" target=\"_parent\"><img src=\"https://colab.research.google.com/assets/colab-badge.svg\" alt=\"Open In Colab\"/></a>"
      ]
    },
    {
      "cell_type": "markdown",
      "source": [
        "# Actividad 1: Ejercicios en Python\n",
        "\n",
        "\n",
        "---\n",
        "\n",
        "Fernando Bustamante Sandoval\n",
        "\n",
        "1956646        Facultad de Ingeniería Mecánica y Eléctrica\n",
        "\n",
        "Veranos 2023 Hora: N4\n",
        "\n",
        "\n",
        "\n"
      ],
      "metadata": {
        "id": "24B6tG-GaQJF"
      }
    },
    {
      "cell_type": "markdown",
      "source": [
        "\n",
        "---\n",
        "Ejercicio 1: Desarrolla un algoritmo que solicite al usuario dos números y muestre la suma de ambos\n"
      ],
      "metadata": {
        "id": "hu1wosbMbxNQ"
      }
    },
    {
      "cell_type": "code",
      "source": [
        "# Se solicita al usuario los 2 numeros\n",
        "numero1 = float(input(\"Ingrese el primer número: \"))\n",
        "numero2 = float(input(\"Ingrese el segundo número: \"))"
      ],
      "metadata": {
        "colab": {
          "base_uri": "https://localhost:8080/"
        },
        "id": "C8n4s-1fc6dH",
        "outputId": "53a2f7e6-36d5-40e7-9a26-783a288b5515"
      },
      "execution_count": 1,
      "outputs": [
        {
          "name": "stdout",
          "output_type": "stream",
          "text": [
            "Ingrese el primer número: 45.2\n",
            "Ingrese el segundo número: 45.8\n"
          ]
        }
      ]
    },
    {
      "cell_type": "code",
      "source": [
        "# Calcular la suma\n",
        "suma = numero1 + numero2\n",
        "\n",
        "# Imprimir el resultado\n",
        "print(numero1,\" + \", numero2, \" = \", suma)"
      ],
      "metadata": {
        "colab": {
          "base_uri": "https://localhost:8080/"
        },
        "id": "2_vvHWhjc_P3",
        "outputId": "bca5a42c-d7f2-4c0f-e0e2-813143d74916"
      },
      "execution_count": 3,
      "outputs": [
        {
          "output_type": "stream",
          "name": "stdout",
          "text": [
            "45.2  +  45.8  =  91.0\n"
          ]
        }
      ]
    },
    {
      "cell_type": "markdown",
      "source": [
        "\n",
        "---\n",
        "Ejercicio 2: Desarrolla un algoritmo que calcule el factorial de un número ingresado por el usuario.\n"
      ],
      "metadata": {
        "id": "XgbANJZmdSFq"
      }
    },
    {
      "cell_type": "code",
      "source": [
        "# Solicitar al usuario un número\n",
        "numero = int(input(\"Ingrese un número entero: \"))\n"
      ],
      "metadata": {
        "colab": {
          "base_uri": "https://localhost:8080/"
        },
        "outputId": "9dc0104c-b183-45f3-e9fe-4a4cd75a024d",
        "id": "rWkTniDGdSFr"
      },
      "execution_count": 4,
      "outputs": [
        {
          "name": "stdout",
          "output_type": "stream",
          "text": [
            "Ingrese un número entero: 5\n"
          ]
        }
      ]
    },
    {
      "cell_type": "code",
      "source": [
        "# Verificar si el número es negativo\n",
        "if numero < 0:\n",
        "    print(\"El factorial no está definido para números negativos.\")\n",
        "# Verificar si el número es 0\n",
        "elif numero == 0:\n",
        "    print(\"El factorial de 0 es 1.\")\n",
        "else:\n",
        "    factorial = 1\n",
        "    for i in range(1, numero + 1):\n",
        "        factorial *= i\n",
        "    print(\"El factorial de\", numero, \"es:\", factorial)"
      ],
      "metadata": {
        "colab": {
          "base_uri": "https://localhost:8080/"
        },
        "outputId": "386ce064-b083-4eff-fc29-f7fa1f118451",
        "id": "Epjr22zldSFs"
      },
      "execution_count": 5,
      "outputs": [
        {
          "output_type": "stream",
          "name": "stdout",
          "text": [
            "El factorial de 5 es: 120\n"
          ]
        }
      ]
    },
    {
      "cell_type": "markdown",
      "source": [
        "\n",
        "---\n",
        "Ejercicio 3: Desarrolla un algoritmo que tome una lista de números y un número objetivo, y muestre la posición (índice) en la que se encuentra el número objetivo en la lista."
      ],
      "metadata": {
        "id": "Pwpwvfb8eOGW"
      }
    },
    {
      "cell_type": "code",
      "source": [
        "# Se define una funcion para encontrar el numero objetivo en la lista\n",
        "def encontrar_posicion(numero_lista, numero_objetivo):\n",
        "    for i in range(len(numero_lista)):\n",
        "        if numero_lista[i] == numero_objetivo:\n",
        "            return i\n",
        "    return -1\n",
        "\n",
        "# Solicitar al usuario ingresar los números de la lista\n",
        "lista_numeros = []\n",
        "for i in range(5):\n",
        "    numero = int(input(\"Ingrese el número \" + str(i+1) + \":\"))\n",
        "    lista_numeros.append(numero)\n",
        "\n",
        "# Solicitar al usuario ingresar el número a buscar\n",
        "numero_objetivo = int(input(\"Ingrese el numero a buscar: \"))\n",
        "\n"
      ],
      "metadata": {
        "colab": {
          "base_uri": "https://localhost:8080/"
        },
        "id": "QtEOHO3levFB",
        "outputId": "e8bc395a-8158-4503-fc09-85675aecb2c5"
      },
      "execution_count": 23,
      "outputs": [
        {
          "name": "stdout",
          "output_type": "stream",
          "text": [
            "Ingrese el número 1:1\n",
            "Ingrese el número 2:2\n",
            "Ingrese el número 3:3\n",
            "Ingrese el número 4:4\n",
            "Ingrese el número 5:5\n",
            "Ingrese el numero a buscar: 3\n"
          ]
        }
      ]
    },
    {
      "cell_type": "code",
      "source": [
        "# Encontrar la posición del número objetivo en la lista\n",
        "posicion = encontrar_posicion(lista_numeros, numero_objetivo)\n",
        "\n",
        "if posicion != -1:\n",
        "    print(\"El número a buscar\", numero_objetivo, \"se encuentra en la posición\", posicion)\n",
        "else:\n",
        "    print(\"El número a buscar\", numero_objetivo, \"no se encuentra en la lista\")\n",
        "# Cabe recalcar que las posiciones en una lista son del 0 a n, por lo que la posicion del numero es la correspondiente a la lista empezando en 0.\n"
      ],
      "metadata": {
        "colab": {
          "base_uri": "https://localhost:8080/"
        },
        "id": "Jh_Vz8c_exXa",
        "outputId": "b48b58d3-5e1e-4951-d5f0-c83548fb34c1"
      },
      "execution_count": 24,
      "outputs": [
        {
          "output_type": "stream",
          "name": "stdout",
          "text": [
            "El número a buscar 3 se encuentra en la posición 2\n"
          ]
        }
      ]
    },
    {
      "cell_type": "markdown",
      "source": [
        "\n",
        "---\n",
        "Ejercicio 4: Desarrolla un algoritmo que tome una cadena de texto y determine si es un palíndromo (se lee igual de adelante hacia atrás y viceversa)."
      ],
      "metadata": {
        "id": "_q4r1rgHgwfD"
      }
    },
    {
      "cell_type": "code",
      "source": [
        "def es_palindromo(texto):\n",
        "    # Eliminar los espacios en blanco y convertir a minúsculas\n",
        "    texto = texto.replace(\" \", \"\").lower()\n",
        "    # Comparar el texto con su reverso\n",
        "    if texto == texto[::-1]:\n",
        "        return True\n",
        "    else:\n",
        "        return False"
      ],
      "metadata": {
        "id": "6VGkcJF6jyjh"
      },
      "execution_count": 25,
      "outputs": []
    },
    {
      "cell_type": "code",
      "source": [
        "# Solicitar al usuario ingresar una cadena de texto\n",
        "texto = input(\"Ingrese una cadena de texto: \")\n",
        "\n",
        "# Verificar si es un palíndromo\n",
        "if es_palindromo(texto):\n",
        "    print(\"La cadena de texto es un palíndromo\")\n",
        "else:\n",
        "    print(\"La cadena de texto no es un palíndromo\")"
      ],
      "metadata": {
        "colab": {
          "base_uri": "https://localhost:8080/"
        },
        "id": "JrfM4qFpjz4N",
        "outputId": "f72cdc9a-6382-4aef-ab25-5ef300486dc5"
      },
      "execution_count": 27,
      "outputs": [
        {
          "output_type": "stream",
          "name": "stdout",
          "text": [
            "Ingrese una cadena de texto: Anita Lava la tina\n",
            "La cadena de texto es un palíndromo\n"
          ]
        }
      ]
    }
  ]
}